{
 "cells": [
  {
   "cell_type": "markdown",
   "metadata": {
    "id": "4MGTWLXgf2lu"
   },
   "source": [
    "## Biogas plant\n",
    "\n",
    "You want to plan the two-year supply of raw materials for a biogas power plant. Such a plant produces energy by burning biogas, which is obtained from the bacterial fermentation of organic wastes. \n",
    "Specifically, your plant is powered by corn chopping, a residual of agro-industrial operations that you can purchase from 5 local farms. \n",
    "The table below shows the quarterly capacity of each farm for the next two years. Quantities are measured in tons.\n",
    "\n",
    "Farm|T1|T2|T3|T4|T5|T6|T7|T8\n",
    ":-|:-:|:-:|:-:|:-:|:-:|:-:|:-:|:-:\n",
    "1|700|1500|700|0|0|700|1500|0\n",
    "2|1350|0|450|0|1350|0|450|0\n",
    "3|0|1500|1500|0|0|1500|1500|0\n",
    "4|820|1560|820|0|820|1560|820|0\n",
    "5|0|680|1080|0|0|680|1080|0\n",
    "\n",
    "Due to crop rotations and corn harvesting periods, farms are unable to supply material in some quarters. Moreover the types of corn chopping provided are different, each coming with its own unitary purchase price, unitary storage cost and percentage of dry matter. The table below shows a summary of these information.\n",
    "\n",
    "Farm|Purchase price|Storage cost|Dry matter\n",
    ":-|:-:|:-:|:-:\n",
    "1|0.20|0.002|15\n",
    "2|0.18|0.012|28\n",
    "3|0.19|0.007|35\n",
    "4|0.21|0.011|37\n",
    "5|0.23|0.015|42\n",
    "\n",
    "Your biogas plant must operate by burning a mixture of corn choppings with a dry matter percentage between 20% and 40%. Under these conditions, the yield is 421.6 kWh of energy per ton of burned material. The energy produced by the plant is sold on the market at a price of 0.28 $/kWh. \n",
    "\n",
    "Due to state regulations, all biogas plants can produce a maximum of 1950 MWh of energy per quarter. You are allowed to store corn chopping in a silo, whose total capacity is of 500 tons. \n",
    "\n",
    "Plan the supply and inventory of your biogas plant with the goal of maximizing your profits (i.e., revenues minus costs)."
   ]
  },
  {
   "cell_type": "code",
   "execution_count": null,
   "metadata": {
    "colab": {
     "base_uri": "https://localhost:8080/",
     "height": 434
    },
    "id": "AXjbD65XQCeH",
    "outputId": "ed641071-f5c0-48cc-b5bd-c0a5c2b22ed4"
   },
   "outputs": [],
   "source": [
    "# When using Google Colab, make sure you run this instruction beforehand\n",
    "!pip install --upgrade cffi==1.15.0\n",
    "import importlib\n",
    "import cffi\n",
    "importlib.reload(cffi)\n",
    "!pip install mip"
   ]
  },
  {
   "cell_type": "code",
   "execution_count": 2,
   "metadata": {
    "colab": {
     "base_uri": "https://localhost:8080/"
    },
    "id": "JIpCqIKDA_uj",
    "outputId": "2aa65eb9-59b1-4085-e2d9-dc3412f7acc7"
   },
   "outputs": [
    {
     "name": "stdout",
     "output_type": "stream",
     "text": [
      "Tons of material to be purchased (t/quarter) (variable x):\n",
      "700.00\t1500.00\t700.00\t0.00\t0.00\t700.00\t1500.00\t0.00\n",
      "1350.00\t0.00\t450.00\t0.00\t1350.00\t0.00\t450.00\t0.00\n",
      "0.00\t1500.00\t1500.00\t0.00\t0.00\t1500.00\t1500.00\t0.00\n",
      "820.00\t1560.00\t820.00\t0.00\t820.00\t1560.00\t820.00\t0.00\n",
      "0.00\t565.24\t1080.00\t0.00\t0.00\t680.00\t855.24\t0.00\n",
      "\n",
      "\n",
      "Tons of material in the silo (t/quarter) (variable y):\n",
      "0.00\t500.00\t318.57\t0.00\t0.00\t0.00\t375.00\t0.00\n",
      "0.00\t0.00\t0.00\t0.00\t0.00\t0.00\t0.00\t0.00\n",
      "0.00\t0.00\t106.19\t0.00\t0.00\t0.00\t125.00\t0.00\n",
      "0.00\t0.00\t0.00\t0.00\t0.00\t0.00\t0.00\t0.00\n",
      "0.00\t0.00\t0.00\t0.00\t0.00\t0.00\t0.00\t0.00\n",
      "\n",
      "\n",
      "Total profit ($) (objective value):  2861373.9254127145\n"
     ]
    }
   ],
   "source": [
    "import mip\n",
    "\n",
    "# Parameters\n",
    "\n",
    "# Capacity of each farm per quarter\n",
    "c = [[700.0,1500.0,700.0,0.0,0.0,700.0,1500.0,0.0],\n",
    "     [1350.0,0.0,450.0,0.0,1350.0,0.0,450.0,0.0],\n",
    "     [0.0,1500.0,1500.0,0.0,0.0,1500.0,1500.0,0.0],\n",
    "     [820.0,1560.0,820.0,0.0,820.0,1560.0,820.0,0.0],\n",
    "     [0.0,680.0,1080.0,0.0,0.0,680.0,1080.0,0.0]] # t\n",
    "# Unit purchase price\n",
    "p = [0.20,0.18,0.19,0.21,0.23] # $/t\n",
    "# Unit storage cost\n",
    "s = [0.002,0.012,0.007,0.011,0.015] # $/t\n",
    "# Unit percentage of dry matter\n",
    "d = [15.0,28.0,35.0,37.0,42.0] # %/t\n",
    "\n",
    "dry_matter_range = [20.0,40.0] # %\n",
    "energy_yield = 421.6 # kWh\n",
    "market_price = 0.28 # $/t\n",
    "state_regulations = 1950000.0 # kWh\n",
    "total_silo_capacity = 500.0 # t\n",
    "\n",
    "def solve_productmix(c,p,s,d,dry_matter_range,energy_yield,market_price,state_regulations,total_silo_capacity):\n",
    "  # Farms\n",
    "  F = range(len(c))\n",
    "  # Quarters\n",
    "  Q = range(len(c[0]))\n",
    "\n",
    "  m = mip.Model()\n",
    "\n",
    "  # The default value of the variable lower bound (lb) is 0.0, so, \n",
    "  # it is not necessary to enter variable constraints greater than or equal to 0.0.\n",
    "\n",
    "  # Number of tons purchased\n",
    "  x = {(i,j) : m.add_var(name = \"x{}{}\".format(str(i),str(j)),ub = c[i][j]) for i in F for j in Q}\n",
    "  # Number of tons stored at the end of the quarter (note that there is an extra quarter for silo initialization)\n",
    "  y = {(i,j) : m.add_var(name = \"y{}{}\".format(str(i),str(j))) for i in F for j in range(len(c[0])+1)}\n",
    "  # Number of tons burned = x[i,j]+y[i,j]-y[i,j+1]\n",
    "\n",
    "  # Constraints \n",
    "  for i in F:\n",
    "    # Silo initialization\n",
    "    m += y[i,0] == 0.0\n",
    "    for j in Q:\n",
    "      # Burned material must be greater than or equal to 0\n",
    "      m += x[i,j]+y[i,j]-y[i,j+1] >= 0.0\n",
    "\n",
    "  for j in Q:\n",
    "    # The dry matter percentage must be between 20 and 40\n",
    "    m += mip.xsum(d[i]*(x[i,j]+y[i,j]-y[i,j+1]) for i in F) >= dry_matter_range[0]*mip.xsum(x[i,j]+y[i,j]-y[i,j+1] for i in F)\n",
    "    m += mip.xsum(d[i]*(x[i,j]+y[i,j]-y[i,j+1]) for i in F) <= dry_matter_range[1]*mip.xsum(x[i,j]+y[i,j]-y[i,j+1] for i in F)\n",
    "    # Stocks per quarter shall not exceed 500 tons\n",
    "    m += mip.xsum(y[i,j+1] for i in F) <= total_silo_capacity\n",
    "    # State regulations must be met in each quarter: no more energy than 1950 MWh must be produced\n",
    "    m += energy_yield*mip.xsum(x[i,j]+y[i,j]-y[i,j+1] for i in F) <= state_regulations\n",
    "\n",
    "  # Objective Function\n",
    "  m.objective = mip.maximize(energy_yield*market_price*mip.xsum(x[i,j]+y[i,j]-y[i,j+1] for i in F for j in Q)-mip.xsum(p[i]*x[i,j]+s[i]*y[i,j+1] for i in F for j in Q))\n",
    "  m.optimize()\n",
    "\n",
    "  return (m,[[\"%.2f\" % x[i,j].x for j in Q] for i in F],[[\"%.2f\" % y[i,j+1].x for j in Q] for i in F],m.objective_value)\n",
    "\n",
    "_, solution_x, solution_y, objective_value = solve_productmix(c,p,s,d,dry_matter_range,energy_yield,market_price,state_regulations,total_silo_capacity)\n",
    "\n",
    "print(\"Tons of material to be purchased (t/quarter) (variable x):\")\n",
    "for line in solution_x:\n",
    "  print(\"\\t\".join(map(str,line)))\n",
    "print(\"\\n\")\n",
    "print(\"Tons of material in the silo (t/quarter) (variable y):\")\n",
    "for line in solution_y:\n",
    "  print(\"\\t\".join(map(str,line)))\n",
    "print(\"\\n\")  \n",
    "print(\"Total profit ($) (objective value): \",objective_value)"
   ]
  }
 ],
 "metadata": {
  "colab": {
   "provenance": []
  },
  "kernelspec": {
   "display_name": "Python 3 (ipykernel)",
   "language": "python",
   "name": "python3"
  },
  "language_info": {
   "codemirror_mode": {
    "name": "ipython",
    "version": 3
   },
   "file_extension": ".py",
   "mimetype": "text/x-python",
   "name": "python",
   "nbconvert_exporter": "python",
   "pygments_lexer": "ipython3",
   "version": "3.9.15"
  }
 },
 "nbformat": 4,
 "nbformat_minor": 1
}
